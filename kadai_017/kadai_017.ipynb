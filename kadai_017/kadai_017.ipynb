{
  "nbformat": 4,
  "nbformat_minor": 0,
  "metadata": {
    "colab": {
      "provenance": []
    },
    "kernelspec": {
      "name": "python3",
      "display_name": "Python 3"
    },
    "language_info": {
      "name": "python"
    }
  },
  "cells": [
    {
      "cell_type": "code",
      "source": [
        "# 名前と年齢の連想配列を作成\n",
        "ages_dict = {\"侍太郎\": 35, \"侍二郎\": 29, \"侍花子\": 19}\n",
        "\n",
        "class Human:\n",
        "    def __init__(self, name, age):\n",
        "        self.name = name\n",
        "        self.age = age\n",
        "\n",
        "    # 年齢が20歳未満かどうかをチェックし、結果を出力\n",
        "    def check_adult(self):\n",
        "        if self.age < 20:\n",
        "            print(f\"{self.name}は20歳未満です。\")\n",
        "        else:\n",
        "            print(f\"{self.name}は大人です。\")\n",
        "\n",
        "# 連想配列内の人物に対してHumanクラスのインスタンスを作成し、成人かどうかをチェック\n",
        "for name, age in ages_dict.items():\n",
        "\n",
        "    # インスタンス化する\n",
        "    person = Human(name, age)\n",
        "\n",
        "    # メソッドにアクセスして実行する\n",
        "    person.check_adult()\n",
        "\n"
      ],
      "metadata": {
        "colab": {
          "base_uri": "https://localhost:8080/"
        },
        "id": "Y4IuitdO4__O",
        "outputId": "b020b450-bbf3-42b2-8eb8-455463a83488"
      },
      "execution_count": 9,
      "outputs": [
        {
          "output_type": "stream",
          "name": "stdout",
          "text": [
            "侍太郎は大人です。\n",
            "侍二郎は大人です。\n",
            "侍花子は20歳未満です。\n"
          ]
        }
      ]
    }
  ]
}