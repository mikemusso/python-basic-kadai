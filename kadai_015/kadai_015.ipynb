{
  "nbformat": 4,
  "nbformat_minor": 0,
  "metadata": {
    "colab": {
      "provenance": []
    },
    "kernelspec": {
      "name": "python3",
      "display_name": "Python 3"
    },
    "language_info": {
      "name": "python"
    }
  },
  "cells": [
    {
      "cell_type": "code",
      "source": [
        "class Human:\n",
        "    # コンストラクタを定義する\n",
        "    def __init__(self, name, age):\n",
        "        self.name = name\n",
        "        self.age =age\n",
        "\n",
        "    # メソッドを定義する\n",
        "    def printinfo(self):\n",
        "        print(self.name,self.age)\n",
        "\n",
        "# インスタンス化する\n",
        "person = Human(\"侍太郎\", 36)\n",
        "\n",
        "# メソッドにアクセスして実行する\n",
        "person.printinfo()\n",
        "\n",
        "\n"
      ],
      "metadata": {
        "colab": {
          "base_uri": "https://localhost:8080/"
        },
        "id": "xPc3z1Igc3Ij",
        "outputId": "25994a3d-4c90-4e91-d002-29eb1e88cb69"
      },
      "execution_count": 4,
      "outputs": [
        {
          "output_type": "stream",
          "name": "stdout",
          "text": [
            "侍太郎 36\n"
          ]
        }
      ]
    }
  ]
}