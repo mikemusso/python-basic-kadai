{
  "nbformat": 4,
  "nbformat_minor": 0,
  "metadata": {
    "colab": {
      "provenance": []
    },
    "kernelspec": {
      "name": "python3",
      "display_name": "Python 3"
    },
    "language_info": {
      "name": "python"
    }
  },
  "cells": [
    {
      "cell_type": "markdown",
      "source": [],
      "metadata": {
        "id": "0kabvhs2cbbG"
      }
    },
    {
      "cell_type": "code",
      "source": [
        "def add_two_arguments(price, consumption_tax):\n",
        "    # 与えられた引数priceと引数consumption_taxを加算し、変数totalに代入する\n",
        "    total = price + (price * consumption_tax)/100\n",
        "\n",
        "    # 戻り値を返す\n",
        "    return total\n",
        "\n",
        "# 関数を呼び出し、引数として購入金額と消費税を渡す\n",
        "add_two_arguments(1200, 10)\n"
      ],
      "metadata": {
        "colab": {
          "base_uri": "https://localhost:8080/"
        },
        "id": "hHLCZjEWTbIr",
        "outputId": "d3d19a09-9d1f-427a-bbb1-780a670c3c72"
      },
      "execution_count": 18,
      "outputs": [
        {
          "output_type": "execute_result",
          "data": {
            "text/plain": [
              "1320.0"
            ]
          },
          "metadata": {},
          "execution_count": 18
        }
      ]
    },
    {
      "cell_type": "markdown",
      "source": [],
      "metadata": {
        "id": "vuMiZ4jQVuAu"
      }
    }
  ]
}