{
  "nbformat": 4,
  "nbformat_minor": 0,
  "metadata": {
    "colab": {
      "provenance": []
    },
    "kernelspec": {
      "name": "python3",
      "display_name": "Python 3"
    },
    "language_info": {
      "name": "python"
    }
  },
  "cells": [
    {
      "cell_type": "markdown",
      "source": [],
      "metadata": {
        "id": "0kabvhs2cbbG"
      }
    },
    {
      "cell_type": "code",
      "source": [
        "def add_two_arguments(price, consumption_tax):\n",
        "    # 与えられた引数priceと引数consumption_taxを加算し、変数totalに代入する\n",
        "    total = price + (price * consumption_tax)/100\n",
        "\n",
        "    # 戻り値を返す\n",
        "    print(f\"{total}円\")\n",
        "\n",
        "# 関数を呼び出し、引数として購入金額と消費税を渡す\n",
        "add_two_arguments(1200, 10)\n"
      ],
      "metadata": {
        "colab": {
          "base_uri": "https://localhost:8080/"
        },
        "id": "hHLCZjEWTbIr",
        "outputId": "5f7dcce0-a9af-443a-ee24-6207b24dc302"
      },
      "execution_count": 2,
      "outputs": [
        {
          "output_type": "stream",
          "name": "stdout",
          "text": [
            "1320.0円\n"
          ]
        }
      ]
    },
    {
      "cell_type": "markdown",
      "source": [],
      "metadata": {
        "id": "vuMiZ4jQVuAu"
      }
    }
  ]
}