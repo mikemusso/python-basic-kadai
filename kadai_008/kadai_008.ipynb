{
  "nbformat": 4,
  "nbformat_minor": 0,
  "metadata": {
    "colab": {
      "provenance": []
    },
    "kernelspec": {
      "name": "python3",
      "display_name": "Python 3"
    },
    "language_info": {
      "name": "python"
    }
  },
  "cells": [
    {
      "cell_type": "markdown",
      "source": [],
      "metadata": {
        "id": "0kabvhs2cbbG"
      }
    },
    {
      "cell_type": "code",
      "source": [
        "#ランダムな整数を利用するために、randomモジュールをインポート\n",
        "import random\n",
        "\n",
        "# 変数varに0～15までのランダムな整数を代入する\n",
        "var = random.randint(0, 15)\n",
        "\n",
        "# 変数varの値を出力\n",
        "print(var)\n",
        "\n",
        "# 変数varが、3の倍数の場合は、「Fizz」という文字列を出力する\n",
        "if var % 3 == 0 and 0 < var:\n",
        "    print(\"Fizz\")\n",
        "\n",
        "# 変数varが、5の倍数の場合は、「Buzz」という文字列を出力する\n",
        "elif var % 5 == 0 and 0 < var:\n",
        "    print(\"Buzz\")\n",
        "\n",
        "# 変数varが、5の倍数の場合は、「FizzBuzz」という文字列を出力する\n",
        "elif var % 3 == 0 and var % 5 == 0 and 0 < var:\n",
        "    print(\"FizzBuzz\")\n",
        "\n",
        "# 上記のどの場合にも該当しない場合は、変数varの値を出力\n",
        "else:\n",
        "    print(var)\n",
        "\n",
        "\n"
      ],
      "metadata": {
        "colab": {
          "base_uri": "https://localhost:8080/"
        },
        "id": "YrKKQ98Jcboz",
        "outputId": "b992662f-8522-4b2b-e373-09c3b4e44d29"
      },
      "execution_count": 51,
      "outputs": [
        {
          "output_type": "stream",
          "name": "stdout",
          "text": [
            "0\n",
            "0\n"
          ]
        }
      ]
    }
  ]
}